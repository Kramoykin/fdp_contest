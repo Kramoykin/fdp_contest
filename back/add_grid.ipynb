{
 "cells": [
  {
   "cell_type": "code",
   "execution_count": 1,
   "metadata": {},
   "outputs": [],
   "source": [
    "import requests\n"
   ]
  },
  {
   "cell_type": "code",
   "execution_count": 2,
   "metadata": {},
   "outputs": [
    {
     "name": "stdout",
     "output_type": "stream",
     "text": [
      "b'{\"detail\":[{\"type\":\"missing\",\"loc\":[\"body\",\"team_name\"],\"msg\":\"Field required\",\"input\":null,\"url\":\"https://errors.pydantic.dev/2.5/v/missing\"},{\"type\":\"missing\",\"loc\":[\"body\",\"password\"],\"msg\":\"Field required\",\"input\":null,\"url\":\"https://errors.pydantic.dev/2.5/v/missing\"},{\"type\":\"missing\",\"loc\":[\"body\",\"file\"],\"msg\":\"Field required\",\"input\":null,\"url\":\"https://errors.pydantic.dev/2.5/v/missing\"}]}'\n"
     ]
    }
   ],
   "source": [
    "url = \"http://localhost:8000/teams/grid?secret=aaaaaa\"\n",
    "files = {'file': open('data/grid.csv','rb')}\n",
    "# files = {'file': open('requirements.txt','rb')}\n",
    "values = {'team_name': 'first', 'password': 'aaaaaa'}\n",
    "\n",
    "with open('data/grid.csv','rb') as file:\n",
    "    r = response = requests.post(\n",
    "      url\n",
    "    , data= file\n",
    "    , json = {'team_name': 'first', 'password': 'aaaaaa'}\n",
    "    , stream=True\n",
    "    )\n",
    "\n",
    "    print(r.content)"
   ]
  },
  {
   "cell_type": "code",
   "execution_count": null,
   "metadata": {},
   "outputs": [],
   "source": []
  }
 ],
 "metadata": {
  "kernelspec": {
   "display_name": ".venv",
   "language": "python",
   "name": "python3"
  },
  "language_info": {
   "codemirror_mode": {
    "name": "ipython",
    "version": 3
   },
   "file_extension": ".py",
   "mimetype": "text/x-python",
   "name": "python",
   "nbconvert_exporter": "python",
   "pygments_lexer": "ipython3",
   "version": "3.11.8"
  }
 },
 "nbformat": 4,
 "nbformat_minor": 2
}
