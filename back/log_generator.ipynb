{
 "cells": [
  {
   "cell_type": "code",
   "execution_count": 1,
   "metadata": {},
   "outputs": [
    {
     "name": "stderr",
     "output_type": "stream",
     "text": [
      "C:\\Users\\Иван\\AppData\\Local\\Temp\\ipykernel_6952\\3908856017.py:2: DeprecationWarning: \n",
      "Pyarrow will become a required dependency of pandas in the next major release of pandas (pandas 3.0),\n",
      "(to allow more performant data types, such as the Arrow string type, and better interoperability with other libraries)\n",
      "but was not found to be installed on your system.\n",
      "If this would cause problems for you,\n",
      "please provide us feedback at https://github.com/pandas-dev/pandas/issues/54466\n",
      "        \n",
      "  import pandas as pd\n"
     ]
    }
   ],
   "source": [
    "from scipy.spatial import cKDTree\n",
    "import pandas as pd\n",
    "import lasio \n",
    "import numpy as np\n",
    "import os\n",
    "import matplotlib.pyplot as plt\n",
    "from scipy.interpolate import CubicSpline"
   ]
  },
  {
   "cell_type": "code",
   "execution_count": 2,
   "metadata": {},
   "outputs": [],
   "source": [
    "def parse_traj_data(file_path: str) -> pd.DataFrame:\n",
    "    with open(file_path, 'r') as file:\n",
    "        lines = file.readlines()\n",
    "        data_start = 0\n",
    "        for i, line in enumerate(lines):\n",
    "            if line.strip().startswith('#====='):\n",
    "                data_start = i + 1\n",
    "                break\n",
    "            \n",
    "        column_names = lines[data_start].split()\n",
    "        df = pd.DataFrame([x.split() for x in lines[data_start + 2:]], columns=column_names)\n",
    "        df = df.apply(pd.to_numeric, errors='ignore')\n",
    "\n",
    "    return df\n",
    "\n",
    "\n",
    "def find_closest_indices_xyz(coords: np.ndarray, target_coords: np.ndarray) -> np.ndarray:\n",
    "    tree = cKDTree(coords)\n",
    "    distances, indices = tree.query(target_coords)\n",
    "    return indices\n",
    "\n",
    "def interpolate_well_trajectory(df, new_step):\n",
    "    md = df['MD'].values\n",
    "    x = df['X'].values\n",
    "    y = df['Y'].values\n",
    "    z = df['Z'].values\n",
    "\n",
    "    spline_x = CubicSpline(md, x)\n",
    "    spline_y = CubicSpline(md, y)\n",
    "    spline_z = CubicSpline(md, z)\n",
    "\n",
    "    md_new = np.arange(md.min(), md.max(), new_step)\n",
    "\n",
    "    x_new = spline_x(md_new)\n",
    "    y_new = spline_y(md_new)\n",
    "    z_new = spline_z(md_new)\n",
    "\n",
    "    df_new = pd.DataFrame({'MD': md_new,\n",
    "                           'X': x_new,\n",
    "                           'Y': y_new,\n",
    "                           'Z': z_new\n",
    "                          })\n",
    "    return df_new"
   ]
  },
  {
   "cell_type": "code",
   "execution_count": 8,
   "metadata": {},
   "outputs": [
    {
     "name": "stderr",
     "output_type": "stream",
     "text": [
      "C:\\Users\\Иван\\AppData\\Local\\Temp\\ipykernel_6952\\3763998010.py:12: FutureWarning: errors='ignore' is deprecated and will raise in a future version. Use to_numeric without passing `errors` and catch exceptions explicitly instead\n",
      "  df = df.apply(pd.to_numeric, errors='ignore')\n"
     ]
    },
    {
     "data": {
      "text/html": [
       "<div>\n",
       "<style scoped>\n",
       "    .dataframe tbody tr th:only-of-type {\n",
       "        vertical-align: middle;\n",
       "    }\n",
       "\n",
       "    .dataframe tbody tr th {\n",
       "        vertical-align: top;\n",
       "    }\n",
       "\n",
       "    .dataframe thead th {\n",
       "        text-align: right;\n",
       "    }\n",
       "</style>\n",
       "<table border=\"1\" class=\"dataframe\">\n",
       "  <thead>\n",
       "    <tr style=\"text-align: right;\">\n",
       "      <th></th>\n",
       "      <th>MD</th>\n",
       "      <th>X</th>\n",
       "      <th>Y</th>\n",
       "      <th>Z</th>\n",
       "    </tr>\n",
       "  </thead>\n",
       "  <tbody>\n",
       "    <tr>\n",
       "      <th>0</th>\n",
       "      <td>0.0</td>\n",
       "      <td>389302.730000</td>\n",
       "      <td>7.523500e+06</td>\n",
       "      <td>-53.000000</td>\n",
       "    </tr>\n",
       "    <tr>\n",
       "      <th>1</th>\n",
       "      <td>0.1</td>\n",
       "      <td>389302.730000</td>\n",
       "      <td>7.523500e+06</td>\n",
       "      <td>-52.900000</td>\n",
       "    </tr>\n",
       "    <tr>\n",
       "      <th>2</th>\n",
       "      <td>0.2</td>\n",
       "      <td>389302.730000</td>\n",
       "      <td>7.523500e+06</td>\n",
       "      <td>-52.800000</td>\n",
       "    </tr>\n",
       "    <tr>\n",
       "      <th>3</th>\n",
       "      <td>0.3</td>\n",
       "      <td>389302.730000</td>\n",
       "      <td>7.523500e+06</td>\n",
       "      <td>-52.700000</td>\n",
       "    </tr>\n",
       "    <tr>\n",
       "      <th>4</th>\n",
       "      <td>0.4</td>\n",
       "      <td>389302.730000</td>\n",
       "      <td>7.523500e+06</td>\n",
       "      <td>-52.600000</td>\n",
       "    </tr>\n",
       "    <tr>\n",
       "      <th>...</th>\n",
       "      <td>...</td>\n",
       "      <td>...</td>\n",
       "      <td>...</td>\n",
       "      <td>...</td>\n",
       "    </tr>\n",
       "    <tr>\n",
       "      <th>34229</th>\n",
       "      <td>3422.9</td>\n",
       "      <td>389855.150966</td>\n",
       "      <td>7.521845e+06</td>\n",
       "      <td>1854.829001</td>\n",
       "    </tr>\n",
       "    <tr>\n",
       "      <th>34230</th>\n",
       "      <td>3423.0</td>\n",
       "      <td>389855.187608</td>\n",
       "      <td>7.521845e+06</td>\n",
       "      <td>1854.829507</td>\n",
       "    </tr>\n",
       "    <tr>\n",
       "      <th>34231</th>\n",
       "      <td>3423.1</td>\n",
       "      <td>389855.224249</td>\n",
       "      <td>7.521845e+06</td>\n",
       "      <td>1854.830013</td>\n",
       "    </tr>\n",
       "    <tr>\n",
       "      <th>34232</th>\n",
       "      <td>3423.2</td>\n",
       "      <td>389855.260891</td>\n",
       "      <td>7.521845e+06</td>\n",
       "      <td>1854.830519</td>\n",
       "    </tr>\n",
       "    <tr>\n",
       "      <th>34233</th>\n",
       "      <td>3423.3</td>\n",
       "      <td>389855.297532</td>\n",
       "      <td>7.521845e+06</td>\n",
       "      <td>1854.831025</td>\n",
       "    </tr>\n",
       "  </tbody>\n",
       "</table>\n",
       "<p>34234 rows × 4 columns</p>\n",
       "</div>"
      ],
      "text/plain": [
       "           MD              X             Y            Z\n",
       "0         0.0  389302.730000  7.523500e+06   -53.000000\n",
       "1         0.1  389302.730000  7.523500e+06   -52.900000\n",
       "2         0.2  389302.730000  7.523500e+06   -52.800000\n",
       "3         0.3  389302.730000  7.523500e+06   -52.700000\n",
       "4         0.4  389302.730000  7.523500e+06   -52.600000\n",
       "...       ...            ...           ...          ...\n",
       "34229  3422.9  389855.150966  7.521845e+06  1854.829001\n",
       "34230  3423.0  389855.187608  7.521845e+06  1854.829507\n",
       "34231  3423.1  389855.224249  7.521845e+06  1854.830013\n",
       "34232  3423.2  389855.260891  7.521845e+06  1854.830519\n",
       "34233  3423.3  389855.297532  7.521845e+06  1854.831025\n",
       "\n",
       "[34234 rows x 4 columns]"
      ]
     },
     "execution_count": 8,
     "metadata": {},
     "output_type": "execute_result"
    }
   ],
   "source": [
    "file_path = 'data/Скважина_2'\n",
    "traj_df = parse_traj_data(file_path)\n",
    "traj_df.Z = traj_df.Z.to_numpy() * -1\n",
    "traj_df = interpolate_well_trajectory(traj_df, new_step=0.1) # интерполирует траекторию под нужный шаг дискретизации\n",
    "traj_df"
   ]
  },
  {
   "cell_type": "code",
   "execution_count": 10,
   "metadata": {},
   "outputs": [
    {
     "data": {
      "text/plain": [
       "Index             132\n",
       "X_UTME      272375336\n",
       "Y_UTMN      272375336\n",
       "Z_TVDSS     272375336\n",
       "GAMMARAY    272375336\n",
       "dtype: int64"
      ]
     },
     "execution_count": 10,
     "metadata": {},
     "output_type": "execute_result"
    }
   ],
   "source": [
    "grid_df = pd.read_csv('data/grid.csv')\n",
    "grid_df\n",
    "grid_df.memory_usage()"
   ]
  },
  {
   "cell_type": "code",
   "execution_count": 11,
   "metadata": {},
   "outputs": [],
   "source": [
    "indices = find_closest_indices_xyz(target_coords=traj_df[['X', 'Y', 'Z']].to_numpy(), \n",
    "                                   coords=grid_df[['X_UTME', 'Y_UTMN', 'Z_TVDSS']].to_numpy()\n",
    "                                   )\n",
    "                                   \n",
    "curve = grid_df.GAMMARAY.to_numpy()[indices]"
   ]
  },
  {
   "cell_type": "code",
   "execution_count": 6,
   "metadata": {},
   "outputs": [],
   "source": [
    "las = lasio.LASFile()\n",
    "las.insert_curve(0, \"DEPT\", traj_df['MD'], unit=\"m\", descr=\"Depth\")\n",
    "las.insert_curve(1, \"GR\", curve, unit=\"API\", descr=\"Gamma Ray\")\n",
    "las.write(\"gamma_ray_curve.las\", version=2.0)\n"
   ]
  },
  {
   "cell_type": "code",
   "execution_count": 10,
   "metadata": {},
   "outputs": [
    {
     "data": {
      "text/plain": [
       "array([11336443, 11336443, 11336443, ..., 14318252, 14318252, 14318252],\n",
       "      dtype=int64)"
      ]
     },
     "execution_count": 10,
     "metadata": {},
     "output_type": "execute_result"
    }
   ],
   "source": [
    "indices"
   ]
  },
  {
   "cell_type": "code",
   "execution_count": 14,
   "metadata": {},
   "outputs": [
    {
     "data": {
      "text/plain": [
       "array([73.9481, 73.9481, 73.9481, ..., 75.9583, 75.9895, 76.0056])"
      ]
     },
     "execution_count": 14,
     "metadata": {},
     "output_type": "execute_result"
    }
   ],
   "source": [
    "grid_df.GAMMARAY.to_numpy()"
   ]
  },
  {
   "cell_type": "code",
   "execution_count": null,
   "metadata": {},
   "outputs": [],
   "source": []
  }
 ],
 "metadata": {
  "kernelspec": {
   "display_name": "Python 3.9.17 ('qa_qc_proj')",
   "language": "python",
   "name": "python3"
  },
  "language_info": {
   "codemirror_mode": {
    "name": "ipython",
    "version": 3
   },
   "file_extension": ".py",
   "mimetype": "text/x-python",
   "name": "python",
   "nbconvert_exporter": "python",
   "pygments_lexer": "ipython3",
   "version": "3.12.1"
  },
  "orig_nbformat": 4,
  "vscode": {
   "interpreter": {
    "hash": "781f071193305b9cc4de4969365dbf8a5305068d89cb55bf119b1668ebae182b"
   }
  }
 },
 "nbformat": 4,
 "nbformat_minor": 2
}
