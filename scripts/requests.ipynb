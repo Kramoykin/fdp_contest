{
 "cells": [
  {
   "cell_type": "code",
   "execution_count": 1,
   "id": "c0d6a700",
   "metadata": {},
   "outputs": [],
   "source": [
    "import requests\n",
    "base_url = \"http://localhost:8000\"\n",
    "secret = \"FhhJhvQ\""
   ]
  },
  {
   "cell_type": "markdown",
   "id": "b81500f2",
   "metadata": {},
   "source": [
    "Загружаем команды"
   ]
  },
  {
   "cell_type": "code",
   "execution_count": 2,
   "id": "6789b5de",
   "metadata": {},
   "outputs": [
    {
     "name": "stdout",
     "output_type": "stream",
     "text": [
      "Response Body: {\"name\":\"team1\",\"id\":1,\"password\":\"z9wtk4\"}\n",
      "Response Body: {\"name\":\"team2\",\"id\":2,\"password\":\"awhfq5\"}\n",
      "Response Body: {\"name\":\"team3\",\"id\":3,\"password\":\"1ep453\"}\n",
      "Response Body: {\"name\":\"team4\",\"id\":4,\"password\":\"sw5n8k\"}\n",
      "Response Body: {\"name\":\"team5\",\"id\":5,\"password\":\"qakypd\"}\n"
     ]
    }
   ],
   "source": [
    "url = f\"{base_url}/teams/?secret={secret}\"\n",
    "\n",
    "payload = {\n",
    "    \"name\": \"team1\",\n",
    "    \"password\": \"z9wtk4\"\n",
    "}\n",
    "response = requests.post(url, json=payload)\n",
    "print(\"Response Body:\", response.text)\n",
    "\n",
    "payload = {\n",
    "    \"name\": \"team2\",\n",
    "    \"password\": \"awhfq5\"\n",
    "}\n",
    "response = requests.post(url, json=payload)\n",
    "print(\"Response Body:\", response.text)\n",
    "\n",
    "payload = {\n",
    "    \"name\": \"team3\",\n",
    "    \"password\": \"1ep453\"\n",
    "}\n",
    "response = requests.post(url, json=payload)\n",
    "print(\"Response Body:\", response.text)\n",
    "\n",
    "payload = {\n",
    "    \"name\": \"team4\",\n",
    "    \"password\": \"sw5n8k\"\n",
    "}\n",
    "response = requests.post(url, json=payload)\n",
    "print(\"Response Body:\", response.text)\n",
    "\n",
    "payload = {\n",
    "    \"name\": \"team5\",\n",
    "    \"password\": \"qakypd\"\n",
    "}\n",
    "response = requests.post(url, json=payload)\n",
    "print(\"Response Body:\", response.text)"
   ]
  },
  {
   "cell_type": "markdown",
   "id": "89023be7",
   "metadata": {},
   "source": [
    "Загружаем грид"
   ]
  },
  {
   "cell_type": "code",
   "execution_count": null,
   "id": "8f8529e6",
   "metadata": {},
   "outputs": [
    {
     "name": "stdout",
     "output_type": "stream",
     "text": [
      "Response Body: \n"
     ]
    }
   ],
   "source": [
    "url = f\"{base_url}/teams/grid\"\n",
    "\n",
    "file_path = r\"C:\\Users\\kramoikinia\\Desktop\\FDP\\1.csv\"\n",
    "payload = {\n",
    "    \"team_name\": \"team1\",\n",
    "    \"secret\": secret\n",
    "}\n",
    "files = {\n",
    "    'file': open(file_path, 'rb')\n",
    "}\n",
    "response = requests.post(url, params=payload, files = files)\n",
    "print(\"Response Body:\", response.text)\n",
    "\n",
    "file_path = r\"C:\\Users\\kramoikinia\\Desktop\\FDP\\2.csv\"\n",
    "payload = {\n",
    "    \"team_name\": \"team2\",\n",
    "    \"secret\": secret\n",
    "}\n",
    "files = {\n",
    "    'file': open(file_path, 'rb')\n",
    "}\n",
    "response = requests.post(url, params=payload, files = files)\n",
    "print(\"Response Body:\", response.text)\n",
    "\n",
    "file_path = r\"C:\\Users\\kramoikinia\\Desktop\\FDP\\3.csv\"\n",
    "payload = {\n",
    "    \"team_name\": \"team3\",\n",
    "    \"secret\": secret\n",
    "}\n",
    "files = {\n",
    "    'file': open(file_path, 'rb')\n",
    "}\n",
    "response = requests.post(url, params=payload, files = files)\n",
    "print(\"Response Body:\", response.text)"
   ]
  },
  {
   "cell_type": "markdown",
   "id": "a7dd2b43",
   "metadata": {},
   "source": [
    "Загружаем траекторию скважины"
   ]
  },
  {
   "cell_type": "code",
   "execution_count": null,
   "id": "e0686eb7",
   "metadata": {},
   "outputs": [],
   "source": []
  }
 ],
 "metadata": {
  "kernelspec": {
   "display_name": "Python 3",
   "language": "python",
   "name": "python3"
  },
  "language_info": {
   "codemirror_mode": {
    "name": "ipython",
    "version": 3
   },
   "file_extension": ".py",
   "mimetype": "text/x-python",
   "name": "python",
   "nbconvert_exporter": "python",
   "pygments_lexer": "ipython3",
   "version": "3.12.4"
  }
 },
 "nbformat": 4,
 "nbformat_minor": 5
}
