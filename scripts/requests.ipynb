{
 "cells": [
  {
   "cell_type": "code",
   "execution_count": 3,
   "id": "c0d6a700",
   "metadata": {},
   "outputs": [],
   "source": [
    "import requests\n",
    "base_url = \"http://localhost:8000\"\n",
    "secret = \"FhhJhvQ\""
   ]
  },
  {
   "cell_type": "markdown",
   "id": "b81500f2",
   "metadata": {},
   "source": [
    "Загружаем команду"
   ]
  },
  {
   "cell_type": "code",
   "execution_count": null,
   "id": "6789b5de",
   "metadata": {},
   "outputs": [
    {
     "name": "stdout",
     "output_type": "stream",
     "text": [
      "URL:  http://localhost:8000/teams/?secret=FhhJhvQ\n",
      "Response Body: {\"detail\":\"Команда уже зарегистрирована\"}\n"
     ]
    }
   ],
   "source": [
    "url = f\"{base_url}/teams/?secret={secret}\"\n",
    "\n",
    "# Тело запроса (JSON)\n",
    "payload = {\n",
    "    \"name\": \"Team1\",\n",
    "    \"password\": \"StrongPassword123\"\n",
    "}\n",
    "\n",
    "print(\"URL: \", url)\n",
    "# Отправка POST-запроса\n",
    "response = requests.post(url, json=payload)\n",
    "\n",
    "\n",
    "# Вывод результата\n",
    "# print(\"Status Code:\", response.status_code)\n",
    "print(\"Response Body:\", response.text)"
   ]
  },
  {
   "cell_type": "markdown",
   "id": "89023be7",
   "metadata": {},
   "source": [
    "Загружаем грид"
   ]
  },
  {
   "cell_type": "code",
   "execution_count": null,
   "id": "8f8529e6",
   "metadata": {},
   "outputs": [
    {
     "name": "stdout",
     "output_type": "stream",
     "text": [
      "Response Body: \n"
     ]
    }
   ],
   "source": [
    "url = f\"{base_url}/teams/grid\"\n",
    "file_path = r\"C:\\Users\\Иван\\Desktop\\fdp_data\\5.csv\"\n",
    "\n",
    "# Тело запроса (JSON)\n",
    "payload = {\n",
    "    \"team_name\": \"Team1\",\n",
    "    \"secret\": secret\n",
    "}\n",
    "\n",
    "files = {\n",
    "    'file': open(file_path, 'rb')\n",
    "}\n",
    "\n",
    "# Отправка POST-запроса\n",
    "response = requests.post(url, params=payload, files = files)\n",
    "\n",
    "# Вывод результата\n",
    "# print(\"Status Code:\", response.status_code)\n",
    "print(\"Response Body:\", response.text)"
   ]
  },
  {
   "cell_type": "markdown",
   "id": "a7dd2b43",
   "metadata": {},
   "source": [
    "Загружаем траекторию скважины"
   ]
  },
  {
   "cell_type": "code",
   "execution_count": null,
   "id": "e0686eb7",
   "metadata": {},
   "outputs": [],
   "source": []
  }
 ],
 "metadata": {
  "kernelspec": {
   "display_name": "base",
   "language": "python",
   "name": "python3"
  },
  "language_info": {
   "codemirror_mode": {
    "name": "ipython",
    "version": 3
   },
   "file_extension": ".py",
   "mimetype": "text/x-python",
   "name": "python",
   "nbconvert_exporter": "python",
   "pygments_lexer": "ipython3",
   "version": "3.11.4"
  }
 },
 "nbformat": 4,
 "nbformat_minor": 5
}
