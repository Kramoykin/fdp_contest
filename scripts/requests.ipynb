{
 "cells": [
  {
   "cell_type": "code",
   "execution_count": 3,
   "id": "c0d6a700",
   "metadata": {},
   "outputs": [],
   "source": [
    "import requests\n",
    "base_url = \"http://localhost:8000\"\n",
    "secret = \"FhhJhvQ\""
   ]
  },
  {
   "cell_type": "markdown",
   "id": "b81500f2",
   "metadata": {},
   "source": [
    "Загружаем команду"
   ]
  },
  {
   "cell_type": "code",
   "execution_count": null,
   "id": "6789b5de",
   "metadata": {},
   "outputs": [
    {
     "name": "stdout",
     "output_type": "stream",
     "text": [
      "Status Code: 405\n",
      "Response Body: {\"detail\":\"Method Not Allowed\"}\n"
     ]
    }
   ],
   "source": [
    "url = f\"{base_url}/teams/?secret={secret}\"\n",
    "\n",
    "# Тело запроса (JSON)\n",
    "payload = {\n",
    "    \"name\": \"Team1\",\n",
    "    \"password\": \"StrongPassword!123\"\n",
    "}\n",
    "\n",
    "# Отправка POST-запроса\n",
    "response = requests.post(url, json=payload)\n",
    "\n",
    "# Вывод результата\n",
    "print(\"Status Code:\", response.status_code)\n",
    "print(\"Response Body:\", response.text)"
   ]
  },
  {
   "cell_type": "code",
   "execution_count": null,
   "id": "8f8529e6",
   "metadata": {},
   "outputs": [],
   "source": []
  }
 ],
 "metadata": {
  "kernelspec": {
   "display_name": "Python 3",
   "language": "python",
   "name": "python3"
  },
  "language_info": {
   "codemirror_mode": {
    "name": "ipython",
    "version": 3
   },
   "file_extension": ".py",
   "mimetype": "text/x-python",
   "name": "python",
   "nbconvert_exporter": "python",
   "pygments_lexer": "ipython3",
   "version": "3.12.4"
  }
 },
 "nbformat": 4,
 "nbformat_minor": 5
}
